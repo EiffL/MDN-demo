{
 "cells": [
  {
   "cell_type": "markdown",
   "metadata": {},
   "source": [
    "#  Extracting summary statistics and performing Bayesian inference"
   ]
  },
  {
   "cell_type": "markdown",
   "metadata": {},
   "source": [
    "This example is based on https://github.com/tomcharnock/information_maximiser/blob/v2/IMNN%20(1D).ipynb by Tom Charnock and demonstrate that training a summary statistic for inference by maximum likelihood yields similar results to  maximising the Fisher information."
   ]
  },
  {
   "cell_type": "code",
   "execution_count": 1,
   "metadata": {},
   "outputs": [
    {
     "name": "stdout",
     "output_type": "stream",
     "text": [
      "Populating the interactive namespace from numpy and matplotlib\n"
     ]
    }
   ],
   "source": [
    "%pylab inline\n",
    "import os\n",
    "import tensorflow as tf\n",
    "import tensorflow.contrib.slim as slim\n",
    "import tensorflow_probability\n",
    "tfd = tensorflow_probability.distributions"
   ]
  },
  {
   "cell_type": "code",
   "execution_count": 2,
   "metadata": {},
   "outputs": [],
   "source": [
    "def _mdn_model_fn(features, labels, network_fn, n_mixture, diag,\n",
    "               feature_columns, label_columns, optimizer, activation_fn, normalizer_fn, dropout, mode):\n",
    "\n",
    "    # Check for training mode\n",
    "    is_training = mode == tf.estimator.ModeKeys.TRAIN\n",
    "    label_dimension=len(label_columns)\n",
    "\n",
    "    # Extracts the features\n",
    "    input_layer = features\n",
    "    regularizer = slim.l2_regularizer(0.0001)\n",
    "\n",
    "    # Builds the neural network\n",
    "    net = slim.fully_connected(input_layer, 128, activation_fn=tf.nn.leaky_relu)\n",
    "    net = slim.fully_connected(net, 128, activation_fn=tf.nn.leaky_relu)\n",
    "    \n",
    "    # Summary statistics of the signal\n",
    "    stat = slim.fully_connected(net, 1, activation_fn=None, weights_regularizer=regularizer)\n",
    "    \n",
    "    net = slim.fully_connected(stat, 64, activation_fn=tf.nn.tanh)\n",
    "    \n",
    "    \n",
    "    # Size of the covariance matrix\n",
    "    if diag ==True:\n",
    "        size_sigma = label_dimension\n",
    "    else:\n",
    "        size_sigma = (label_dimension *(label_dimension +1) // 2)\n",
    "        \n",
    "    # Create mixture components from network output\n",
    "    out_mu = slim.fully_connected(net, label_dimension*n_mixture , activation_fn=None)\n",
    "    out_mu = tf.reshape(out_mu, (-1, n_mixture, label_dimension))\n",
    "\n",
    "    out_sigma = slim.fully_connected(net, size_sigma * n_mixture, activation_fn=None)\n",
    "    out_sigma = tf.reshape(out_sigma, (-1, n_mixture, size_sigma))\n",
    "\n",
    "    out_p = slim.fully_connected(net, n_mixture, activation_fn=None)\n",
    "\n",
    "    if diag == True:\n",
    "        sigma_mat = tf.nn.softplus(out_sigma)+1e-4\n",
    "        gmm = tfd.MixtureSameFamily(mixture_distribution=tfd.Categorical(logits=out_p),\n",
    "                      components_distribution=tfd.MultivariateNormalDiag(loc=out_mu,\n",
    "                                                                        scale_diag=sigma_mat))\n",
    "    else:\n",
    "        sigma_mat = tfd.matrix_diag_transform(tfd.fill_triangular(out_sigma), transform=tf.nn.softplus)\n",
    "        gmm = tfd.MixtureSameFamily(mixture_distribution=tfd.Categorical(logits=out_p),\n",
    "                     components_distribution=tfd.MultivariateNormalTriL(loc=out_mu,\n",
    "                                                                        scale_tril=sigma_mat))\n",
    "\n",
    "    predictions = {'mu': out_mu, 'sigma': sigma_mat, 'p':out_p, 'stat':stat}\n",
    "\n",
    "    if mode == tf.estimator.ModeKeys.PREDICT:\n",
    "        y = gmm.sample(2000)\n",
    "        samples = y\n",
    "        predictions['samples'] = tf.transpose(y,[1,0,2])\n",
    "\n",
    "        return tf.estimator.EstimatorSpec(mode=mode, predictions=predictions,\n",
    "                                          export_outputs={'pdf': tf.estimator.export.PredictOutput(predictions),\n",
    "                                                          'samples': tf.estimator.export.PredictOutput(samples),\n",
    "                                                          tf.saved_model.signature_constants.DEFAULT_SERVING_SIGNATURE_DEF_KEY: tf.estimator.export.PredictOutput(samples)})\n",
    "\n",
    "    label_layer = labels\n",
    "\n",
    "    # Compute and register loss function\n",
    "    loss = - tf.reduce_mean(gmm.log_prob(label_layer),axis=0)\n",
    "    tf.losses.add_loss(loss)\n",
    "    total_loss = tf.losses.get_total_loss(add_regularization_losses=True)\n",
    "\n",
    "    train_op = None\n",
    "    eval_metric_ops = None\n",
    "\n",
    "    # Define optimizer\n",
    "    if mode == tf.estimator.ModeKeys.TRAIN:\n",
    "        update_ops = tf.get_collection(tf.GraphKeys.UPDATE_OPS)\n",
    "        with tf.control_dependencies(update_ops):\n",
    "            train_op = optimizer(learning_rate=0.0002).minimize(loss=total_loss,\n",
    "                                        global_step=tf.train.get_global_step())\n",
    "        tf.summary.scalar('loss', loss)\n",
    "    elif mode == tf.estimator.ModeKeys.EVAL:\n",
    "        eval_metric_ops = { \"log_p\": loss}\n",
    "\n",
    "    return tf.estimator.EstimatorSpec(mode=mode,\n",
    "                                      predictions=predictions,\n",
    "                                      loss=total_loss,\n",
    "                                      train_op=train_op,\n",
    "                                      eval_metric_ops=eval_metric_ops)\n",
    "\n",
    "class MDNEstimator(tf.estimator.Estimator):\n",
    "    \"\"\"An estimator for distribution estimation using Mixture Density Networks.\n",
    "    \"\"\"\n",
    "\n",
    "    def __init__(self,\n",
    "               feature_columns,\n",
    "               label_columns,\n",
    "               network_fn,\n",
    "               n_mixture,\n",
    "               diagonal=True,\n",
    "               optimizer=tf.train.AdamOptimizer,\n",
    "               activation_fn=tf.nn.relu,\n",
    "               normalizer_fn=slim.batch_norm,\n",
    "               dropout=None,\n",
    "               model_dir=None,\n",
    "               config=None):\n",
    "        \"\"\"Initializes a `MDNEstimator` instance.\n",
    "        \"\"\"\n",
    "\n",
    "        def _model_fn(features, labels, mode):\n",
    "            return _mdn_model_fn(features, labels, network_fn, n_mixture, diagonal,\n",
    "               feature_columns, label_columns, optimizer, activation_fn, normalizer_fn, dropout, mode)\n",
    "\n",
    "        super(self.__class__, self).__init__(model_fn=_model_fn,\n",
    "                                             model_dir=model_dir,\n",
    "                                             config=config)"
   ]
  },
  {
   "cell_type": "code",
   "execution_count": 3,
   "metadata": {},
   "outputs": [],
   "source": [
    "# Define input function for estimator\n",
    "batch_size = 256\n",
    "\n",
    "# Number of training and testing simulations\n",
    "nsims_train = 100000\n",
    "nsims_test = 100000\n",
    "\n",
    "# Samples from the prior U[0,10]\n",
    "t_train = 10 * rand(nsims_train,1)\n",
    "t_test = 10 * rand(nsims_test,1)\n",
    "\n",
    "# Set the 10 first test parameters to 1\n",
    "t_test[0:10] = 1.0\n",
    "\n",
    "x_train = sqrt(t_train) * randn(nsims_train,10)\n",
    "x_test = sqrt(t_test) * randn(nsims_test,10)\n",
    "\n",
    "def _prior_sampling_input_fn():\n",
    "    \"\"\"Serving input fn for training data\"\"\"\n",
    "    dataset = tf.data.Dataset.from_tensor_slices((x_train.astype('float32'), t_train.astype('float32')))\n",
    "    dataset = dataset.repeat().shuffle(1000).batch(batch_size)\n",
    "    return dataset\n",
    "\n",
    "def _testing_input_fn():\n",
    "    \"\"\"Serving input fn for testing data\"\"\"\n",
    "    dataset = tf.data.Dataset.from_tensor_slices((x_test.astype('float32'), t_test.astype('float32')))\n",
    "    dataset = dataset.batch(batch_size)\n",
    "    return dataset"
   ]
  },
  {
   "cell_type": "code",
   "execution_count": 4,
   "metadata": {},
   "outputs": [
    {
     "name": "stdout",
     "output_type": "stream",
     "text": [
      "INFO:tensorflow:Using default config.\n",
      "INFO:tensorflow:Using config: {'_model_dir': 'models/model1', '_tf_random_seed': None, '_save_summary_steps': 100, '_save_checkpoints_steps': None, '_save_checkpoints_secs': 600, '_session_config': allow_soft_placement: true\n",
      "graph_options {\n",
      "  rewrite_options {\n",
      "    meta_optimizer_iterations: ONE\n",
      "  }\n",
      "}\n",
      ", '_keep_checkpoint_max': 5, '_keep_checkpoint_every_n_hours': 10000, '_log_step_count_steps': 100, '_train_distribute': None, '_device_fn': None, '_protocol': None, '_eval_distribute': None, '_experimental_distribute': None, '_service': None, '_cluster_spec': <tensorflow.python.training.server_lib.ClusterSpec object at 0x7f9b6f2b6be0>, '_task_type': 'worker', '_task_id': 0, '_global_id_in_cluster': 0, '_master': '', '_evaluation_master': '', '_is_chief': True, '_num_ps_replicas': 0, '_num_worker_replicas': 1}\n"
     ]
    }
   ],
   "source": [
    "features = ['x']\n",
    "labels = ['theta']\n",
    "\n",
    "model = MDNEstimator(features, labels, None, n_mixture=16,\n",
    "               diagonal=True, model_dir='models/model1')"
   ]
  },
  {
   "cell_type": "code",
   "execution_count": null,
   "metadata": {},
   "outputs": [],
   "source": [
    "model.train(_prior_sampling_input_fn, max_steps=10000)"
   ]
  },
  {
   "cell_type": "code",
   "execution_count": 5,
   "metadata": {},
   "outputs": [],
   "source": [
    "pred = model.predict(_testing_input_fn)"
   ]
  },
  {
   "cell_type": "code",
   "execution_count": 6,
   "metadata": {},
   "outputs": [
    {
     "name": "stdout",
     "output_type": "stream",
     "text": [
      "INFO:tensorflow:Calling model_fn.\n",
      "INFO:tensorflow:Done calling model_fn.\n",
      "INFO:tensorflow:Graph was finalized.\n",
      "INFO:tensorflow:Restoring parameters from models/model1/model.ckpt-10000\n",
      "INFO:tensorflow:Running local_init_op.\n",
      "INFO:tensorflow:Done running local_init_op.\n"
     ]
    }
   ],
   "source": [
    "# Compute the summary statistics and compares it to the optimal one\n",
    "st = []\n",
    "va = []\n",
    "\n",
    "for i in range(10000):\n",
    "    p =  next(pred)\n",
    "    st.append(p['stat'])\n",
    "    va.append(sum(x_test[i]**2))\n",
    "    \n",
    "st = array(st)\n",
    "va = array(va)"
   ]
  },
  {
   "cell_type": "code",
   "execution_count": 7,
   "metadata": {},
   "outputs": [
    {
     "data": {
      "text/plain": [
       "(0, 100)"
      ]
     },
     "execution_count": 7,
     "metadata": {},
     "output_type": "execute_result"
    },
    {
     "data": {
      "image/png": "[encoded data removed]",
      "text/plain": [
       "<Figure size 432x288 with 1 Axes>"
      ]
     },
     "metadata": {
      "needs_background": "light"
     },
     "output_type": "display_data"
    }
   ],
   "source": [
    "plot(va, -9*st, '+',alpha=0.2)\n",
    "xlabel('Sufficient statistic')\n",
    "ylabel('Predicted network output')\n",
    "plot([0,100],[0,100],'k--')\n",
    "xlim(0,100)\n",
    "ylim(0,100)"
   ]
  },
  {
   "cell_type": "code",
   "execution_count": 8,
   "metadata": {},
   "outputs": [],
   "source": [
    "pred = model.predict(_testing_input_fn)\n",
    "i=0"
   ]
  },
  {
   "cell_type": "code",
   "execution_count": 9,
   "metadata": {},
   "outputs": [
    {
     "name": "stdout",
     "output_type": "stream",
     "text": [
      "INFO:tensorflow:Calling model_fn.\n",
      "INFO:tensorflow:Done calling model_fn.\n",
      "INFO:tensorflow:Graph was finalized.\n",
      "INFO:tensorflow:Restoring parameters from models/model1/model.ckpt-10000\n",
      "INFO:tensorflow:Running local_init_op.\n",
      "INFO:tensorflow:Done running local_init_op.\n"
     ]
    }
   ],
   "source": [
    "p = next(pred)\n",
    "x = x_test[i]\n",
    "t = t_test[i]\n",
    "i = i + 1 "
   ]
  },
  {
   "cell_type": "code",
   "execution_count": 10,
   "metadata": {
    "scrolled": true
   },
   "outputs": [],
   "source": [
    "real_data = x\n",
    "θ_grid = np.linspace(0.001, 10, 1000)\n",
    "analytic_posterior = np.exp(-0.5 * np.sum(real_data**2) / θ_grid) / np.sqrt(2. * np.pi * θ_grid)**10.\n",
    "analytic_posterior = analytic_posterior / np.sum(analytic_posterior * (θ_grid[1] - θ_grid[0]))"
   ]
  },
  {
   "cell_type": "code",
   "execution_count": 11,
   "metadata": {},
   "outputs": [
    {
     "name": "stderr",
     "output_type": "stream",
     "text": [
      "/usr/lib/python3.7/site-packages/matplotlib/axes/_axes.py:6510: MatplotlibDeprecationWarning: \n",
      "The 'normed' kwarg was deprecated in Matplotlib 2.1 and will be removed in 3.1. Use 'density' instead.\n",
      "  alternative=\"'density'\", removal=\"3.1\")\n"
     ]
    },
    {
     "data": {
      "text/plain": [
       "(0, 10)"
      ]
     },
     "execution_count": 11,
     "metadata": {},
     "output_type": "execute_result"
    },
    {
     "data": {
      "image/png": "[encoded data removed]",
      "text/plain": [
       "<Figure size 720x432 with 1 Axes>"
      ]
     },
     "metadata": {
      "needs_background": "light"
     },
     "output_type": "display_data"
    }
   ],
   "source": [
    "fig, ax = plt.subplots(1, 1, figsize = (10, 6))\n",
    "ax.plot(θ_grid, analytic_posterior, linewidth = 1.5, color = 'C4', label = \"Analytic posterior\")\n",
    "hist(p['samples'].flatten(),64,range=[0,10],normed=True, label='MDN posterior');\n",
    "\n",
    "axvline(t,color='r', label='truth')\n",
    "ax.legend(frameon = False)\n",
    "ax.set_xlim([0, 10])"
   ]
  },
  {
   "cell_type": "markdown",
   "metadata": {},
   "source": [
    "## Performing Simulation-Based Calibration tests"
   ]
  },
  {
   "cell_type": "code",
   "execution_count": 16,
   "metadata": {},
   "outputs": [
    {
     "name": "stdout",
     "output_type": "stream",
     "text": [
      "INFO:tensorflow:Calling model_fn.\n",
      "INFO:tensorflow:Done calling model_fn.\n",
      "INFO:tensorflow:Graph was finalized.\n",
      "INFO:tensorflow:Restoring parameters from models/model1/model.ckpt-10000\n",
      "INFO:tensorflow:Running local_init_op.\n",
      "INFO:tensorflow:Done running local_init_op.\n"
     ]
    }
   ],
   "source": [
    "# Extracting samples from the posterior\n",
    "pred = model.predict(_testing_input_fn)\n",
    "\n",
    "order = np.zeros([4096])\n",
    "for i in range(4096):\n",
    "    p = next(pred)\n",
    "    theta = t_test[i]\n",
    "    samples = p['samples'] \n",
    "    order[i] =  sum(theta > samples[:1023,0])"
   ]
  },
  {
   "cell_type": "code",
   "execution_count": 20,
   "metadata": {},
   "outputs": [
    {
     "data": {
      "image/png": "[encoded data removed]",
      "text/plain": [
       "<Figure size 432x288 with 1 Axes>"
      ]
     },
     "metadata": {
      "needs_background": "light"
     },
     "output_type": "display_data"
    }
   ],
   "source": [
    "from scipy.stats import binom\n",
    "r = binom.interval(0.99, 4096, 1./16)\n",
    "hist(order,16);\n",
    "axhline(r[0],color='black')\n",
    "axhline(r[1],color='black')\n",
    "fill_between(linspace(0,1024),r[0], r[1], facecolor='gray', interpolate=True)\n",
    "xlim(0,1023)\n",
    "xlabel('Rank Statistic');"
   ]
  },
  {
   "cell_type": "code",
   "execution_count": null,
   "metadata": {},
   "outputs": [],
   "source": []
  }
 ],
 "metadata": {
  "kernelspec": {
   "display_name": "Python 3 - GPU",
   "language": "python",
   "name": "gpu-python3"
  },
  "language_info": {
   "codemirror_mode": {
    "name": "ipython",
    "version": 3
   },
   "file_extension": ".py",
   "mimetype": "text/x-python",
   "name": "python",
   "nbconvert_exporter": "python",
   "pygments_lexer": "ipython3",
   "version": "3.7.1"
  }
 },
 "nbformat": 4,
 "nbformat_minor": 2
}
