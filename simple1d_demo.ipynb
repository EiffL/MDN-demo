{
 "cells": [
  {
   "cell_type": "markdown",
   "metadata": {},
   "source": [
    "#  Extracting summary statistics and performing Bayesian inference"
   ]
  },
  {
   "cell_type": "markdown",
   "metadata": {},
   "source": [
    "This example is based on https://github.com/tomcharnock/information_maximiser/blob/v2/IMNN%20(1D).ipynb by Tom Charnock and demonstrate that training a summary statistic for inference by maximum likelihood yields similar results to  maximising the Fisher information."
   ]
  },
  {
   "cell_type": "code",
   "execution_count": 17,
   "metadata": {},
   "outputs": [
    {
     "name": "stdout",
     "output_type": "stream",
     "text": [
      "Populating the interactive namespace from numpy and matplotlib\n"
     ]
    }
   ],
   "source": [
    "%pylab inline\n",
    "import os\n",
    "import tensorflow as tf\n",
    "import tensorflow.contrib.slim as slim\n",
    "import tensorflow_probability\n",
    "tfd = tensorflow_probability.distributions"
   ]
  },
  {
   "cell_type": "code",
   "execution_count": 3,
   "metadata": {},
   "outputs": [],
   "source": [
    "def _mdn_model_fn(features, labels, network_fn, n_mixture, diag,\n",
    "               feature_columns, label_columns, optimizer, activation_fn, normalizer_fn, dropout, mode):\n",
    "\n",
    "    # Check for training mode\n",
    "    is_training = mode == tf.estimator.ModeKeys.TRAIN\n",
    "    label_dimension=len(label_columns)\n",
    "\n",
    "    # Extracts the features\n",
    "    input_layer = features\n",
    "    regularizer = slim.l2_regularizer(0.0001)\n",
    "\n",
    "    # Builds the neural network\n",
    "    net = slim.fully_connected(input_layer, 128, activation_fn=tf.nn.leaky_relu)\n",
    "    net = slim.fully_connected(net, 128, activation_fn=tf.nn.leaky_relu)\n",
    "    \n",
    "    # Summary statistics of the signal\n",
    "    stat = slim.fully_connected(net, 1, activation_fn=None, weights_regularizer=regularizer)\n",
    "    \n",
    "    net = slim.fully_connected(stat, 64, activation_fn=tf.nn.tanh)\n",
    "    \n",
    "    \n",
    "    # Size of the covariance matrix\n",
    "    if diag ==True:\n",
    "        size_sigma = label_dimension\n",
    "    else:\n",
    "        size_sigma = (label_dimension *(label_dimension +1) // 2)\n",
    "        \n",
    "    # Create mixture components from network output\n",
    "    out_mu = slim.fully_connected(net, label_dimension*n_mixture , activation_fn=None)\n",
    "    out_mu = tf.reshape(out_mu, (-1, n_mixture, label_dimension))\n",
    "\n",
    "    out_sigma = slim.fully_connected(net, size_sigma * n_mixture, activation_fn=None)\n",
    "    out_sigma = tf.reshape(out_sigma, (-1, n_mixture, size_sigma))\n",
    "\n",
    "    out_p = slim.fully_connected(net, n_mixture, activation_fn=None)\n",
    "\n",
    "    if diag == True:\n",
    "        sigma_mat = tf.nn.softplus(out_sigma)+1e-4\n",
    "        gmm = tfd.MixtureSameFamily(mixture_distribution=tfd.Categorical(logits=out_p),\n",
    "                      components_distribution=tfd.MultivariateNormalDiag(loc=out_mu,\n",
    "                                                                        scale_diag=sigma_mat))\n",
    "    else:\n",
    "        sigma_mat = tfd.matrix_diag_transform(tfd.fill_triangular(out_sigma), transform=tf.nn.softplus)\n",
    "        gmm = tfd.MixtureSameFamily(mixture_distribution=tfd.Categorical(logits=out_p),\n",
    "                     components_distribution=tfd.MultivariateNormalTriL(loc=out_mu,\n",
    "                                                                        scale_tril=sigma_mat))\n",
    "\n",
    "    predictions = {'mu': out_mu, 'sigma': sigma_mat, 'p':out_p, 'stat':stat}\n",
    "\n",
    "    if mode == tf.estimator.ModeKeys.PREDICT:\n",
    "        y = gmm.sample(2000)\n",
    "        samples = y\n",
    "        predictions['samples'] = tf.transpose(y,[1,0,2])\n",
    "\n",
    "        return tf.estimator.EstimatorSpec(mode=mode, predictions=predictions,\n",
    "                                          export_outputs={'pdf': tf.estimator.export.PredictOutput(predictions),\n",
    "                                                          'samples': tf.estimator.export.PredictOutput(samples),\n",
    "                                                          tf.saved_model.signature_constants.DEFAULT_SERVING_SIGNATURE_DEF_KEY: tf.estimator.export.PredictOutput(samples)})\n",
    "\n",
    "    label_layer = labels\n",
    "\n",
    "    # Compute and register loss function\n",
    "    loss = - tf.reduce_mean(gmm.log_prob(label_layer),axis=0)\n",
    "    tf.losses.add_loss(loss)\n",
    "    total_loss = tf.losses.get_total_loss(add_regularization_losses=True)\n",
    "\n",
    "    train_op = None\n",
    "    eval_metric_ops = None\n",
    "\n",
    "    # Define optimizer\n",
    "    if mode == tf.estimator.ModeKeys.TRAIN:\n",
    "        update_ops = tf.get_collection(tf.GraphKeys.UPDATE_OPS)\n",
    "        with tf.control_dependencies(update_ops):\n",
    "            train_op = optimizer(learning_rate=0.0002).minimize(loss=total_loss,\n",
    "                                        global_step=tf.train.get_global_step())\n",
    "        tf.summary.scalar('loss', loss)\n",
    "    elif mode == tf.estimator.ModeKeys.EVAL:\n",
    "        eval_metric_ops = { \"log_p\": loss}\n",
    "\n",
    "    return tf.estimator.EstimatorSpec(mode=mode,\n",
    "                                      predictions=predictions,\n",
    "                                      loss=total_loss,\n",
    "                                      train_op=train_op,\n",
    "                                      eval_metric_ops=eval_metric_ops)\n",
    "\n",
    "class MDNEstimator(tf.estimator.Estimator):\n",
    "    \"\"\"An estimator for distribution estimation using Mixture Density Networks.\n",
    "    \"\"\"\n",
    "\n",
    "    def __init__(self,\n",
    "               feature_columns,\n",
    "               label_columns,\n",
    "               network_fn,\n",
    "               n_mixture,\n",
    "               diagonal=True,\n",
    "               optimizer=tf.train.AdamOptimizer,\n",
    "               activation_fn=tf.nn.relu,\n",
    "               normalizer_fn=slim.batch_norm,\n",
    "               dropout=None,\n",
    "               model_dir=None,\n",
    "               config=None):\n",
    "        \"\"\"Initializes a `MDNEstimator` instance.\n",
    "        \"\"\"\n",
    "\n",
    "        def _model_fn(features, labels, mode):\n",
    "            return _mdn_model_fn(features, labels, network_fn, n_mixture, diagonal,\n",
    "               feature_columns, label_columns, optimizer, activation_fn, normalizer_fn, dropout, mode)\n",
    "\n",
    "        super(self.__class__, self).__init__(model_fn=_model_fn,\n",
    "                                             model_dir=model_dir,\n",
    "                                             config=config)"
   ]
  },
  {
   "cell_type": "code",
   "execution_count": 4,
   "metadata": {},
   "outputs": [],
   "source": [
    "# Define input function for estimator\n",
    "batch_size = 256\n",
    "\n",
    "# Number of training and testing simulations\n",
    "nsims_train = 100000\n",
    "nsims_test = 100000\n",
    "\n",
    "# Samples from the prior U[0,10]\n",
    "t_train = 10 * rand(nsims_train,1)\n",
    "t_test = 10 * rand(nsims_test,1)\n",
    "\n",
    "# Set the 10 first test parameters to 1\n",
    "t_test[0:10] = 1.0\n",
    "\n",
    "x_train = sqrt(t_train) * randn(nsims_train,10)\n",
    "x_test = sqrt(t_test) * randn(nsims_test,10)\n",
    "\n",
    "def _prior_sampling_input_fn():\n",
    "    \"\"\"Serving input fn for training data\"\"\"\n",
    "    dataset = tf.data.Dataset.from_tensor_slices((x_train.astype('float32'), t_train.astype('float32')))\n",
    "    dataset = dataset.repeat().shuffle(1000).batch(batch_size)\n",
    "    return dataset\n",
    "\n",
    "def _testing_input_fn():\n",
    "    \"\"\"Serving input fn for testing data\"\"\"\n",
    "    dataset = tf.data.Dataset.from_tensor_slices((x_test.astype('float32'), t_test.astype('float32')))\n",
    "    dataset = dataset.batch(batch_size)\n",
    "    return dataset"
   ]
  },
  {
   "cell_type": "code",
   "execution_count": 5,
   "metadata": {},
   "outputs": [
    {
     "name": "stdout",
     "output_type": "stream",
     "text": [
      "INFO:tensorflow:Using default config.\n",
      "INFO:tensorflow:Using config: {'_model_dir': 'models/model1', '_tf_random_seed': None, '_save_summary_steps': 100, '_save_checkpoints_steps': None, '_save_checkpoints_secs': 600, '_session_config': allow_soft_placement: true\n",
      "graph_options {\n",
      "  rewrite_options {\n",
      "    meta_optimizer_iterations: ONE\n",
      "  }\n",
      "}\n",
      ", '_keep_checkpoint_max': 5, '_keep_checkpoint_every_n_hours': 10000, '_log_step_count_steps': 100, '_train_distribute': None, '_device_fn': None, '_protocol': None, '_eval_distribute': None, '_experimental_distribute': None, '_service': None, '_cluster_spec': <tensorflow.python.training.server_lib.ClusterSpec object at 0x7f3b6705ec88>, '_task_type': 'worker', '_task_id': 0, '_global_id_in_cluster': 0, '_master': '', '_evaluation_master': '', '_is_chief': True, '_num_ps_replicas': 0, '_num_worker_replicas': 1}\n"
     ]
    }
   ],
   "source": [
    "features = ['x']\n",
    "labels = ['theta']\n",
    "\n",
    "model = MDNEstimator(features, labels, None, n_mixture=16,\n",
    "               diagonal=True, model_dir='models/model1')"
   ]
  },
  {
   "cell_type": "code",
   "execution_count": 6,
   "metadata": {},
   "outputs": [
    {
     "name": "stdout",
     "output_type": "stream",
     "text": [
      "INFO:tensorflow:Calling model_fn.\n",
      "INFO:tensorflow:Done calling model_fn.\n",
      "INFO:tensorflow:Create CheckpointSaverHook.\n",
      "INFO:tensorflow:Graph was finalized.\n",
      "INFO:tensorflow:Running local_init_op.\n",
      "INFO:tensorflow:Done running local_init_op.\n",
      "INFO:tensorflow:Saving checkpoints for 0 into models/model1/model.ckpt.\n",
      "INFO:tensorflow:loss = 27.72662, step = 0\n",
      "INFO:tensorflow:global_step/sec: 134.165\n",
      "INFO:tensorflow:loss = 4.2680726, step = 100 (0.748 sec)\n",
      "INFO:tensorflow:global_step/sec: 290.848\n",
      "INFO:tensorflow:loss = 2.6327562, step = 200 (0.340 sec)\n",
      "INFO:tensorflow:global_step/sec: 212.868\n",
      "INFO:tensorflow:loss = 2.4562826, step = 300 (0.471 sec)\n",
      "INFO:tensorflow:global_step/sec: 242.457\n",
      "INFO:tensorflow:loss = 2.3053944, step = 400 (0.412 sec)\n",
      "INFO:tensorflow:global_step/sec: 339.658\n",
      "INFO:tensorflow:loss = 2.1668622, step = 500 (0.294 sec)\n",
      "INFO:tensorflow:global_step/sec: 111.694\n",
      "INFO:tensorflow:loss = 2.1191227, step = 600 (0.900 sec)\n",
      "INFO:tensorflow:global_step/sec: 109.933\n",
      "INFO:tensorflow:loss = 1.9672062, step = 700 (0.909 sec)\n",
      "INFO:tensorflow:global_step/sec: 107.17\n",
      "INFO:tensorflow:loss = 1.9959921, step = 800 (0.933 sec)\n",
      "INFO:tensorflow:global_step/sec: 284.018\n",
      "INFO:tensorflow:loss = 1.8970528, step = 900 (0.348 sec)\n",
      "INFO:tensorflow:global_step/sec: 333.092\n",
      "INFO:tensorflow:loss = 1.9142871, step = 1000 (0.300 sec)\n",
      "INFO:tensorflow:global_step/sec: 338.903\n",
      "INFO:tensorflow:loss = 1.8053335, step = 1100 (0.295 sec)\n",
      "INFO:tensorflow:global_step/sec: 346.734\n",
      "INFO:tensorflow:loss = 1.8581538, step = 1200 (0.288 sec)\n",
      "INFO:tensorflow:global_step/sec: 342.954\n",
      "INFO:tensorflow:loss = 1.8148127, step = 1300 (0.292 sec)\n",
      "INFO:tensorflow:global_step/sec: 343.398\n",
      "INFO:tensorflow:loss = 1.7781662, step = 1400 (0.291 sec)\n",
      "INFO:tensorflow:global_step/sec: 345.3\n",
      "INFO:tensorflow:loss = 1.8597451, step = 1500 (0.289 sec)\n",
      "INFO:tensorflow:global_step/sec: 341.595\n",
      "INFO:tensorflow:loss = 1.8804853, step = 1600 (0.293 sec)\n",
      "INFO:tensorflow:global_step/sec: 343.93\n",
      "INFO:tensorflow:loss = 1.8033638, step = 1700 (0.291 sec)\n",
      "INFO:tensorflow:global_step/sec: 333.876\n",
      "INFO:tensorflow:loss = 1.7088934, step = 1800 (0.301 sec)\n",
      "INFO:tensorflow:global_step/sec: 346.614\n",
      "INFO:tensorflow:loss = 1.8360156, step = 1900 (0.287 sec)\n",
      "INFO:tensorflow:global_step/sec: 350.074\n",
      "INFO:tensorflow:loss = 1.7026983, step = 2000 (0.286 sec)\n",
      "INFO:tensorflow:global_step/sec: 326.043\n",
      "INFO:tensorflow:loss = 1.7277318, step = 2100 (0.307 sec)\n",
      "INFO:tensorflow:global_step/sec: 197.796\n",
      "INFO:tensorflow:loss = 1.8069758, step = 2200 (0.506 sec)\n",
      "INFO:tensorflow:global_step/sec: 298.979\n",
      "INFO:tensorflow:loss = 1.7337303, step = 2300 (0.336 sec)\n",
      "INFO:tensorflow:global_step/sec: 167.168\n",
      "INFO:tensorflow:loss = 1.6961993, step = 2400 (0.601 sec)\n",
      "INFO:tensorflow:global_step/sec: 202.767\n",
      "INFO:tensorflow:loss = 1.7140976, step = 2500 (0.490 sec)\n",
      "INFO:tensorflow:global_step/sec: 189.363\n",
      "INFO:tensorflow:loss = 1.6629533, step = 2600 (0.530 sec)\n",
      "INFO:tensorflow:global_step/sec: 191.18\n",
      "INFO:tensorflow:loss = 1.6717398, step = 2700 (0.520 sec)\n",
      "INFO:tensorflow:global_step/sec: 326.41\n",
      "INFO:tensorflow:loss = 1.7103181, step = 2800 (0.306 sec)\n",
      "INFO:tensorflow:global_step/sec: 339.85\n",
      "INFO:tensorflow:loss = 1.6963073, step = 2900 (0.294 sec)\n",
      "INFO:tensorflow:global_step/sec: 327.666\n",
      "INFO:tensorflow:loss = 1.7004364, step = 3000 (0.306 sec)\n",
      "INFO:tensorflow:global_step/sec: 233.439\n",
      "INFO:tensorflow:loss = 1.6575892, step = 3100 (0.428 sec)\n",
      "INFO:tensorflow:global_step/sec: 334.842\n",
      "INFO:tensorflow:loss = 1.7288436, step = 3200 (0.298 sec)\n",
      "INFO:tensorflow:global_step/sec: 343.972\n",
      "INFO:tensorflow:loss = 1.6579685, step = 3300 (0.291 sec)\n",
      "INFO:tensorflow:global_step/sec: 350.114\n",
      "INFO:tensorflow:loss = 1.7791593, step = 3400 (0.285 sec)\n",
      "INFO:tensorflow:global_step/sec: 343.296\n",
      "INFO:tensorflow:loss = 1.6120979, step = 3500 (0.291 sec)\n",
      "INFO:tensorflow:global_step/sec: 347.862\n",
      "INFO:tensorflow:loss = 1.7272097, step = 3600 (0.287 sec)\n",
      "INFO:tensorflow:global_step/sec: 341.921\n",
      "INFO:tensorflow:loss = 1.736581, step = 3700 (0.293 sec)\n",
      "INFO:tensorflow:global_step/sec: 333.142\n",
      "INFO:tensorflow:loss = 1.6323311, step = 3800 (0.301 sec)\n",
      "INFO:tensorflow:global_step/sec: 342.358\n",
      "INFO:tensorflow:loss = 1.7558255, step = 3900 (0.292 sec)\n",
      "INFO:tensorflow:global_step/sec: 335.625\n",
      "INFO:tensorflow:loss = 1.6318073, step = 4000 (0.298 sec)\n",
      "INFO:tensorflow:global_step/sec: 345.22\n",
      "INFO:tensorflow:loss = 1.6664724, step = 4100 (0.290 sec)\n",
      "INFO:tensorflow:global_step/sec: 343.368\n",
      "INFO:tensorflow:loss = 1.7456986, step = 4200 (0.291 sec)\n",
      "INFO:tensorflow:global_step/sec: 365.378\n",
      "INFO:tensorflow:loss = 1.6918657, step = 4300 (0.274 sec)\n",
      "INFO:tensorflow:global_step/sec: 365.176\n",
      "INFO:tensorflow:loss = 1.6859549, step = 4400 (0.274 sec)\n",
      "INFO:tensorflow:global_step/sec: 344.107\n",
      "INFO:tensorflow:loss = 1.6585051, step = 4500 (0.291 sec)\n",
      "INFO:tensorflow:global_step/sec: 199.849\n",
      "INFO:tensorflow:loss = 1.7126594, step = 4600 (0.500 sec)\n",
      "INFO:tensorflow:global_step/sec: 331.161\n",
      "INFO:tensorflow:loss = 1.666078, step = 4700 (0.302 sec)\n",
      "INFO:tensorflow:global_step/sec: 251.433\n",
      "INFO:tensorflow:loss = 1.6231809, step = 4800 (0.401 sec)\n",
      "INFO:tensorflow:global_step/sec: 213.892\n",
      "INFO:tensorflow:loss = 1.7199917, step = 4900 (0.465 sec)\n",
      "INFO:tensorflow:global_step/sec: 325.815\n",
      "INFO:tensorflow:loss = 1.6408596, step = 5000 (0.307 sec)\n",
      "INFO:tensorflow:global_step/sec: 349.206\n",
      "INFO:tensorflow:loss = 1.7064128, step = 5100 (0.286 sec)\n",
      "INFO:tensorflow:global_step/sec: 360.452\n",
      "INFO:tensorflow:loss = 1.6921073, step = 5200 (0.277 sec)\n",
      "INFO:tensorflow:global_step/sec: 358.006\n",
      "INFO:tensorflow:loss = 1.6584148, step = 5300 (0.279 sec)\n",
      "INFO:tensorflow:global_step/sec: 365.014\n",
      "INFO:tensorflow:loss = 1.6382387, step = 5400 (0.274 sec)\n",
      "INFO:tensorflow:global_step/sec: 358.503\n",
      "INFO:tensorflow:loss = 1.6394976, step = 5500 (0.279 sec)\n",
      "INFO:tensorflow:global_step/sec: 359.55\n",
      "INFO:tensorflow:loss = 1.6808515, step = 5600 (0.278 sec)\n",
      "INFO:tensorflow:global_step/sec: 358.665\n",
      "INFO:tensorflow:loss = 1.6388446, step = 5700 (0.279 sec)\n",
      "INFO:tensorflow:global_step/sec: 361.147\n",
      "INFO:tensorflow:loss = 1.6541033, step = 5800 (0.277 sec)\n",
      "INFO:tensorflow:global_step/sec: 360.821\n",
      "INFO:tensorflow:loss = 1.6303432, step = 5900 (0.277 sec)\n",
      "INFO:tensorflow:global_step/sec: 348.203\n",
      "INFO:tensorflow:loss = 1.6579006, step = 6000 (0.287 sec)\n",
      "INFO:tensorflow:global_step/sec: 362.735\n",
      "INFO:tensorflow:loss = 1.6091646, step = 6100 (0.276 sec)\n",
      "INFO:tensorflow:global_step/sec: 362.527\n",
      "INFO:tensorflow:loss = 1.6248419, step = 6200 (0.276 sec)\n",
      "INFO:tensorflow:global_step/sec: 322.338\n",
      "INFO:tensorflow:loss = 1.7242273, step = 6300 (0.310 sec)\n",
      "INFO:tensorflow:global_step/sec: 349.715\n",
      "INFO:tensorflow:loss = 1.6131464, step = 6400 (0.286 sec)\n",
      "INFO:tensorflow:global_step/sec: 355.22\n",
      "INFO:tensorflow:loss = 1.698095, step = 6500 (0.281 sec)\n",
      "INFO:tensorflow:global_step/sec: 376.261\n",
      "INFO:tensorflow:loss = 1.6315589, step = 6600 (0.266 sec)\n",
      "INFO:tensorflow:global_step/sec: 318.781\n",
      "INFO:tensorflow:loss = 1.6401439, step = 6700 (0.314 sec)\n",
      "INFO:tensorflow:global_step/sec: 194.784\n",
      "INFO:tensorflow:loss = 1.6966811, step = 6800 (0.514 sec)\n",
      "INFO:tensorflow:global_step/sec: 279.374\n",
      "INFO:tensorflow:loss = 1.7143039, step = 6900 (0.358 sec)\n",
      "INFO:tensorflow:global_step/sec: 349.212\n",
      "INFO:tensorflow:loss = 1.5929546, step = 7000 (0.286 sec)\n",
      "INFO:tensorflow:global_step/sec: 313.903\n",
      "INFO:tensorflow:loss = 1.7341791, step = 7100 (0.319 sec)\n",
      "INFO:tensorflow:global_step/sec: 353.917\n",
      "INFO:tensorflow:loss = 1.6622043, step = 7200 (0.282 sec)\n",
      "INFO:tensorflow:global_step/sec: 304.013\n",
      "INFO:tensorflow:loss = 1.6739867, step = 7300 (0.333 sec)\n",
      "INFO:tensorflow:global_step/sec: 224.263\n",
      "INFO:tensorflow:loss = 1.5877601, step = 7400 (0.442 sec)\n",
      "INFO:tensorflow:global_step/sec: 335.894\n",
      "INFO:tensorflow:loss = 1.617393, step = 7500 (0.298 sec)\n",
      "INFO:tensorflow:global_step/sec: 182.892\n",
      "INFO:tensorflow:loss = 1.6139721, step = 7600 (0.547 sec)\n",
      "INFO:tensorflow:global_step/sec: 251.315\n",
      "INFO:tensorflow:loss = 1.7034417, step = 7700 (0.398 sec)\n",
      "INFO:tensorflow:global_step/sec: 351.536\n",
      "INFO:tensorflow:loss = 1.589952, step = 7800 (0.284 sec)\n",
      "INFO:tensorflow:global_step/sec: 357.743\n",
      "INFO:tensorflow:loss = 1.5486931, step = 7900 (0.279 sec)\n",
      "INFO:tensorflow:global_step/sec: 158.123\n",
      "INFO:tensorflow:loss = 1.6495984, step = 8000 (0.638 sec)\n"
     ]
    },
    {
     "name": "stdout",
     "output_type": "stream",
     "text": [
      "INFO:tensorflow:global_step/sec: 257.289\n",
      "INFO:tensorflow:loss = 1.6089286, step = 8100 (0.384 sec)\n",
      "INFO:tensorflow:global_step/sec: 175.428\n",
      "INFO:tensorflow:loss = 1.6466559, step = 8200 (0.570 sec)\n",
      "INFO:tensorflow:global_step/sec: 316.083\n",
      "INFO:tensorflow:loss = 1.5424924, step = 8300 (0.316 sec)\n",
      "INFO:tensorflow:global_step/sec: 201.677\n",
      "INFO:tensorflow:loss = 1.5765532, step = 8400 (0.497 sec)\n",
      "INFO:tensorflow:global_step/sec: 296.86\n",
      "INFO:tensorflow:loss = 1.54961, step = 8500 (0.336 sec)\n",
      "INFO:tensorflow:global_step/sec: 339.172\n",
      "INFO:tensorflow:loss = 1.6493255, step = 8600 (0.294 sec)\n",
      "INFO:tensorflow:global_step/sec: 353.334\n",
      "INFO:tensorflow:loss = 1.6134937, step = 8700 (0.284 sec)\n",
      "INFO:tensorflow:global_step/sec: 322.279\n",
      "INFO:tensorflow:loss = 1.6448605, step = 8800 (0.310 sec)\n",
      "INFO:tensorflow:global_step/sec: 348.298\n",
      "INFO:tensorflow:loss = 1.5939113, step = 8900 (0.288 sec)\n",
      "INFO:tensorflow:global_step/sec: 285.75\n",
      "INFO:tensorflow:loss = 1.6508124, step = 9000 (0.350 sec)\n",
      "INFO:tensorflow:global_step/sec: 340.358\n",
      "INFO:tensorflow:loss = 1.550151, step = 9100 (0.293 sec)\n",
      "INFO:tensorflow:global_step/sec: 160.611\n",
      "INFO:tensorflow:loss = 1.5743076, step = 9200 (0.625 sec)\n",
      "INFO:tensorflow:global_step/sec: 259.369\n",
      "INFO:tensorflow:loss = 1.5915539, step = 9300 (0.384 sec)\n",
      "INFO:tensorflow:global_step/sec: 331.066\n",
      "INFO:tensorflow:loss = 1.7009727, step = 9400 (0.302 sec)\n",
      "INFO:tensorflow:global_step/sec: 267.452\n",
      "INFO:tensorflow:loss = 1.7871737, step = 9500 (0.374 sec)\n",
      "INFO:tensorflow:global_step/sec: 324.988\n",
      "INFO:tensorflow:loss = 1.584124, step = 9600 (0.307 sec)\n",
      "INFO:tensorflow:global_step/sec: 335.867\n",
      "INFO:tensorflow:loss = 1.5590605, step = 9700 (0.298 sec)\n",
      "INFO:tensorflow:global_step/sec: 335.137\n",
      "INFO:tensorflow:loss = 1.6243842, step = 9800 (0.298 sec)\n",
      "INFO:tensorflow:global_step/sec: 333.177\n",
      "INFO:tensorflow:loss = 1.5900561, step = 9900 (0.300 sec)\n",
      "INFO:tensorflow:Saving checkpoints for 10000 into models/model1/model.ckpt.\n",
      "INFO:tensorflow:Loss for final step: 1.6064235.\n"
     ]
    },
    {
     "data": {
      "text/plain": [
       "<__main__.MDNEstimator at 0x7f3b8c754588>"
      ]
     },
     "execution_count": 6,
     "metadata": {},
     "output_type": "execute_result"
    }
   ],
   "source": [
    "model.train(_prior_sampling_input_fn, max_steps=10000)"
   ]
  },
  {
   "cell_type": "code",
   "execution_count": 7,
   "metadata": {},
   "outputs": [],
   "source": [
    "pred = model.predict(_testing_input_fn)"
   ]
  },
  {
   "cell_type": "code",
   "execution_count": 8,
   "metadata": {},
   "outputs": [
    {
     "name": "stdout",
     "output_type": "stream",
     "text": [
      "INFO:tensorflow:Calling model_fn.\n",
      "INFO:tensorflow:Done calling model_fn.\n",
      "INFO:tensorflow:Graph was finalized.\n",
      "INFO:tensorflow:Restoring parameters from models/model1/model.ckpt-10000\n",
      "INFO:tensorflow:Running local_init_op.\n",
      "INFO:tensorflow:Done running local_init_op.\n"
     ]
    }
   ],
   "source": [
    "# Compute the summary statistics and compares it to the optimal one\n",
    "st = []\n",
    "va = []\n",
    "\n",
    "for i in range(10000):\n",
    "    p =  next(pred)\n",
    "    st.append(p['stat'])\n",
    "    va.append(sum(x_test[i]**2))\n",
    "    \n",
    "st = array(st)\n",
    "va = array(va)"
   ]
  },
  {
   "cell_type": "code",
   "execution_count": 11,
   "metadata": {},
   "outputs": [
    {
     "data": {
      "text/plain": [
       "(0, 100)"
      ]
     },
     "execution_count": 11,
     "metadata": {},
     "output_type": "execute_result"
    },
    {
     "data": {
      "image/png": "[encoded data removed]",
      "text/plain": [
       "<Figure size 432x288 with 1 Axes>"
      ]
     },
     "metadata": {
      "needs_background": "light"
     },
     "output_type": "display_data"
    }
   ],
   "source": [
    "plot(va, -9*st, '+',alpha=0.2)\n",
    "xlabel('Sufficient statistic')\n",
    "ylabel('Predicted network output')\n",
    "plot([0,100],[0,100],'k--')\n",
    "xlim(0,100)\n",
    "ylim(0,100)"
   ]
  },
  {
   "cell_type": "code",
   "execution_count": 12,
   "metadata": {},
   "outputs": [],
   "source": [
    "pred = model.predict(_testing_input_fn)\n",
    "i=0"
   ]
  },
  {
   "cell_type": "code",
   "execution_count": 13,
   "metadata": {},
   "outputs": [
    {
     "name": "stdout",
     "output_type": "stream",
     "text": [
      "INFO:tensorflow:Calling model_fn.\n",
      "INFO:tensorflow:Done calling model_fn.\n",
      "INFO:tensorflow:Graph was finalized.\n",
      "INFO:tensorflow:Restoring parameters from models/model1/model.ckpt-10000\n",
      "INFO:tensorflow:Running local_init_op.\n",
      "INFO:tensorflow:Done running local_init_op.\n"
     ]
    }
   ],
   "source": [
    "p = next(pred)\n",
    "x = x_test[i]\n",
    "t = t_test[i]\n",
    "i = i + 1 "
   ]
  },
  {
   "cell_type": "code",
   "execution_count": 14,
   "metadata": {
    "scrolled": true
   },
   "outputs": [],
   "source": [
    "real_data = x\n",
    "θ_grid = np.linspace(0.001, 10, 1000)\n",
    "analytic_posterior = np.exp(-0.5 * np.sum(real_data**2) / θ_grid) / np.sqrt(2. * np.pi * θ_grid)**10.\n",
    "analytic_posterior = analytic_posterior / np.sum(analytic_posterior * (θ_grid[1] - θ_grid[0]))"
   ]
  },
  {
   "cell_type": "code",
   "execution_count": 16,
   "metadata": {},
   "outputs": [
    {
     "name": "stderr",
     "output_type": "stream",
     "text": [
      "/usr/lib/python3.7/site-packages/matplotlib/axes/_axes.py:6510: MatplotlibDeprecationWarning: \n",
      "The 'normed' kwarg was deprecated in Matplotlib 2.1 and will be removed in 3.1. Use 'density' instead.\n",
      "  alternative=\"'density'\", removal=\"3.1\")\n"
     ]
    },
    {
     "data": {
      "text/plain": [
       "(0, 10)"
      ]
     },
     "execution_count": 16,
     "metadata": {},
     "output_type": "execute_result"
    },
    {
     "data": {
      "image/png": "[encoded data removed]",
      "text/plain": [
       "<Figure size 720x432 with 1 Axes>"
      ]
     },
     "metadata": {
      "needs_background": "light"
     },
     "output_type": "display_data"
    }
   ],
   "source": [
    "fig, ax = plt.subplots(1, 1, figsize = (10, 6))\n",
    "ax.plot(θ_grid, analytic_posterior, linewidth = 1.5, color = 'C4', label = \"Analytic posterior\")\n",
    "hist(p['samples'].flatten(),64,range=[0,10],normed=True, label='MDN posterior');\n",
    "\n",
    "axvline(t,color='r', label='truth')\n",
    "ax.legend(frameon = False)\n",
    "ax.set_xlim([0, 10])"
   ]
  },
  {
   "cell_type": "code",
   "execution_count": null,
   "metadata": {},
   "outputs": [],
   "source": []
  }
 ],
 "metadata": {
  "kernelspec": {
   "display_name": "Python 3 - GPU",
   "language": "python",
   "name": "gpu-python3"
  },
  "language_info": {
   "codemirror_mode": {
    "name": "ipython",
    "version": 3
   },
   "file_extension": ".py",
   "mimetype": "text/x-python",
   "name": "python",
   "nbconvert_exporter": "python",
   "pygments_lexer": "ipython3",
   "version": "3.7.1"
  }
 },
 "nbformat": 4,
 "nbformat_minor": 2
}
